{
 "cells": [
  {
   "cell_type": "code",
   "execution_count": 1,
   "id": "9706c55c-7eaf-4711-b300-c6dd7ee202a8",
   "metadata": {},
   "outputs": [],
   "source": [
    "import pandas as pd\n",
    "from sklearn.model_selection import train_test_split\n",
    "from sklearn.ensemble import RandomForestClassifier\n",
    "from sklearn.preprocessing import StandardScaler\n",
    "from sklearn.pipeline import Pipeline\n",
    "from sklearn.metrics import accuracy_score\n",
    "import pickle\n",
    "\n",
    "\n",
    "\n"
   ]
  },
  {
   "cell_type": "code",
   "execution_count": 2,
   "id": "669d7016-3551-4fea-8691-51e9e32b88cb",
   "metadata": {},
   "outputs": [],
   "source": [
    "df = pd.read_csv(\"academic_achievement_cleaned.csv\")\n"
   ]
  },
  {
   "cell_type": "code",
   "execution_count": 3,
   "id": "a6273a27-d0df-4722-a14e-14363934b786",
   "metadata": {},
   "outputs": [],
   "source": [
    "df.columns = df.columns.str.lower().str.strip()\n"
   ]
  },
  {
   "cell_type": "code",
   "execution_count": 4,
   "id": "20284b96-e349-4224-aadb-61de904bfd7e",
   "metadata": {},
   "outputs": [],
   "source": [
    "df = df.drop(columns=['student_id'], errors='ignore')\n",
    "\n"
   ]
  },
  {
   "cell_type": "code",
   "execution_count": 5,
   "id": "33b95702-1a1f-4e31-9018-fc89cf12c069",
   "metadata": {},
   "outputs": [],
   "source": [
    "if 'grade_encoded' not in df.columns:\n",
    "    raise ValueError(\"❌ Target column 'grade_encoded' not found in dataset!\")\n",
    "\n",
    "X = df.drop(columns=['grade_encoded'])\n",
    "y = df['grade_encoded']\n",
    "\n",
    "pipeline = Pipeline([\n",
    "    ('scaler', StandardScaler()),\n",
    "    ('classifier', RandomForestClassifier(n_estimators=150, random_state=42))\n",
    "])\n",
    "\n"
   ]
  },
  {
   "cell_type": "code",
   "execution_count": 6,
   "id": "df738d2f-a661-4e78-aaa9-c9100834373d",
   "metadata": {},
   "outputs": [],
   "source": [
    "X_train, X_test, y_train, y_test = train_test_split(\n",
    "    X, y, test_size=0.2, random_state=42, stratify=y  # optional stratify added\n",
    ")\n",
    "\n"
   ]
  },
  {
   "cell_type": "code",
   "execution_count": 7,
   "id": "ee56c61e-b3e5-43ec-8f6e-06f4277df8d1",
   "metadata": {},
   "outputs": [
    {
     "name": "stdout",
     "output_type": "stream",
     "text": [
      "✅ Model accuracy: 27.59%\n"
     ]
    }
   ],
   "source": [
    "pipeline.fit(X_train, y_train)\n",
    "y_pred = pipeline.predict(X_test)\n",
    "acc = accuracy_score(y_test, y_pred)\n",
    "print(f\"✅ Model accuracy: {acc:.2%}\")\n",
    "\n"
   ]
  },
  {
   "cell_type": "code",
   "execution_count": 8,
   "id": "3a76337d-a5d5-4592-9aeb-480569d63728",
   "metadata": {},
   "outputs": [],
   "source": [
    "with open(\"StudentGradePipeline.pkl\", \"wb\") as f:\n",
    "    pickle.dump(pipeline, f)\n",
    "\n"
   ]
  },
  {
   "cell_type": "code",
   "execution_count": 9,
   "id": "55880aa2-baa2-43d4-acfc-8440537a13d9",
   "metadata": {},
   "outputs": [
    {
     "name": "stdout",
     "output_type": "stream",
     "text": [
      "🎉 Model saved as 'StudentGradePipeline.pkl'\n"
     ]
    }
   ],
   "source": [
    "print(\"🎉 Model saved as 'StudentGradePipeline.pkl'\")\n",
    "import json"
   ]
  },
  {
   "cell_type": "code",
   "execution_count": null,
   "id": "70009d48-ad13-4e24-a6d5-fba177697c18",
   "metadata": {},
   "outputs": [],
   "source": []
  }
 ],
 "metadata": {
  "kernelspec": {
   "display_name": "Python 3 (ipykernel)",
   "language": "python",
   "name": "python3"
  },
  "language_info": {
   "codemirror_mode": {
    "name": "ipython",
    "version": 3
   },
   "file_extension": ".py",
   "mimetype": "text/x-python",
   "name": "python",
   "nbconvert_exporter": "python",
   "pygments_lexer": "ipython3",
   "version": "3.13.5"
  }
 },
 "nbformat": 4,
 "nbformat_minor": 5
}
